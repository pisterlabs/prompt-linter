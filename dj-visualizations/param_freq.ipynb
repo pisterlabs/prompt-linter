{
 "cells": [
  {
   "cell_type": "code",
   "execution_count": 29,
   "metadata": {},
   "outputs": [],
   "source": [
    "import json\n",
    "\n",
    "# Load data/reader_all_metadata\n",
    "with open(\"data/reader_all_metadata.json\") as f:\n",
    "    files = json.load(f)\n",
    "\n",
    "# params = set()\n",
    "models = {}\n",
    "top_ps = {}\n",
    "temperatures = {}\n",
    "max_tokens = {}\n",
    "frequency_penalty = {}\n",
    "presence_penalty = {}\n",
    "engine = {}\n",
    "\n",
    "for file, metadata in files.items():\n",
    "    # # Get params\n",
    "    # parameters = metadata.keys()\n",
    "    # params.update(parameters)\n",
    "\n",
    "    # Get model\n",
    "    model_lst = metadata.get(\"model\", [])\n",
    "    for model in model_lst:\n",
    "        models[model] = models.get(model, 0) + 1\n",
    "\n",
    "    # Get top_p\n",
    "    top_p_lst = metadata.get(\"top_p\", [])\n",
    "    for top_p in top_p_lst:\n",
    "        top_ps[top_p] = top_ps.get(top_p, 0) + 1\n",
    "\n",
    "    # Get temperature\n",
    "    temperature = metadata.get(\"temperature\", [])\n",
    "    for temp in temperature:\n",
    "        temperatures[temp] = temperatures.get(temp, 0) + 1\n",
    "\n",
    "    # Get max_tokens\n",
    "    max_token = metadata.get(\"max_tokens\", [])\n",
    "    for token in max_token:\n",
    "        max_tokens[token] = max_tokens.get(token, 0) + 1\n",
    "\n",
    "    # Get frequency_penalty\n",
    "    frequency_pen = metadata.get(\"frequency_penalty\", [])\n",
    "    for pen in frequency_pen:\n",
    "        frequency_penalty[pen] = frequency_penalty.get(pen, 0) + 1\n",
    "\n",
    "    # Get presence_penalty\n",
    "    presence_pen = metadata.get(\"presence_penalty\", [])\n",
    "    for pen in presence_pen:\n",
    "        presence_penalty[pen] = presence_penalty.get(pen, 0) + 1\n",
    "\n",
    "    # Get engine\n",
    "    engine_lst = metadata.get(\"engine\", [])\n",
    "    for eng in engine_lst:\n",
    "        engine[eng] = engine.get(eng, 0) + 1\n",
    "\n"
   ]
  },
  {
   "cell_type": "code",
   "execution_count": 30,
   "metadata": {},
   "outputs": [
    {
     "data": {
      "text/plain": [
       "[('\"text-davinci-003\"', 427),\n",
       " ('\"text-davinci-002\"', 291),\n",
       " ('engine', 173),\n",
       " ('\"davinci\"', 161),\n",
       " ('model', 115),\n",
       " ('model_engine', 99),\n",
       " (\"'text-davinci-003'\", 90),\n",
       " ('\"text-davinci-001\"', 53),\n",
       " ('self.engine', 50),\n",
       " ('\"davinci-instruct-beta-v3\"', 34)]"
      ]
     },
     "execution_count": 30,
     "metadata": {},
     "output_type": "execute_result"
    }
   ],
   "source": [
    "# Find Frequency of models, top_ps, and temperatures\n",
    "sorted_models = sorted(models.items(), key=lambda x: x[1], reverse=True)\n",
    "sorted_top_ps = sorted(top_ps.items(), key=lambda x: x[1], reverse=True)\n",
    "sorted_temperatures = sorted(temperatures.items(), key=lambda x: x[1], reverse=True)\n",
    "sorted_max_tokens = sorted(max_tokens.items(), key=lambda x: x[1], reverse=True)\n",
    "sorted_frequency_penalty = sorted(frequency_penalty.items(), key=lambda x: x[1], reverse=True)\n",
    "sorted_presence_penalty = sorted(presence_penalty.items(), key=lambda x: x[1], reverse=True)\n",
    "sorted_engine = sorted(engine.items(), key=lambda x: x[1], reverse=True)\n",
    "\n",
    "# Print results\n",
    "# sorted_models[:10], sorted_top_ps[:10], sorted_temperatures[:10], sorted_max_tokens[:10], \n",
    "# sorted_frequency_penalty[:10]\n",
    "# sorted_presence_penalty[:10]\n",
    "sorted_engine[:10]\n"
   ]
  },
  {
   "cell_type": "code",
   "execution_count": null,
   "metadata": {},
   "outputs": [],
   "source": []
  }
 ],
 "metadata": {
  "kernelspec": {
   "display_name": "Python 3",
   "language": "python",
   "name": "python3"
  },
  "language_info": {
   "codemirror_mode": {
    "name": "ipython",
    "version": 3
   },
   "file_extension": ".py",
   "mimetype": "text/x-python",
   "name": "python",
   "nbconvert_exporter": "python",
   "pygments_lexer": "ipython3",
   "version": "3.10.12"
  }
 },
 "nbformat": 4,
 "nbformat_minor": 2
}
