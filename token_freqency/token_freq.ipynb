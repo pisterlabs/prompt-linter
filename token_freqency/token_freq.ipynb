{
 "cells": [
  {
   "cell_type": "code",
   "execution_count": 1,
   "id": "c0c2adb6-d625-43a7-922b-e43c358683a5",
   "metadata": {},
   "outputs": [],
   "source": [
    "import tiktoken\n",
    "import matplotlib.pyplot as plt\n",
    "from collections import defaultdict"
   ]
  },
  {
   "cell_type": "code",
   "execution_count": 2,
   "id": "c1375469-a1ba-4462-9dd1-786f7badf47f",
   "metadata": {},
   "outputs": [],
   "source": [
    "SEP = \"\\n----------------------------------------------------------------------------------------\\n\""
   ]
  },
  {
   "cell_type": "code",
   "execution_count": 7,
   "id": "0df13202-e620-4794-a30b-7ce3f7d93844",
   "metadata": {},
   "outputs": [],
   "source": [
    "with open(\"strings.txt\") as f:\n",
    "    strings = f.read()"
   ]
  },
  {
   "cell_type": "code",
   "execution_count": 8,
   "id": "560e32c2-6bd9-423c-8085-28990eef33cf",
   "metadata": {},
   "outputs": [
    {
     "name": "stdout",
     "output_type": "stream",
     "text": [
      "8473\n"
     ]
    }
   ],
   "source": [
    "strings = map(lambda x: x.strip(\"f\").strip(\"\\\"'\").strip(), strings.split(SEP))\n",
    "strings = list(set(list(strings)))\n",
    "print(len(strings))"
   ]
  },
  {
   "cell_type": "code",
   "execution_count": 17,
   "id": "a09d8288-95a0-4706-b605-87a17ef9d48d",
   "metadata": {},
   "outputs": [],
   "source": [
    "enc = tiktoken.encoding_for_model(\"gpt-3.5-turbo\")"
   ]
  },
  {
   "cell_type": "code",
   "execution_count": 23,
   "id": "d758e2d0-e634-4888-963c-18b4bdb56378",
   "metadata": {},
   "outputs": [
    {
     "data": {
      "text/plain": [
       "[14372, 279, 2768, 1495, 1139, 6498, 7338, 77, 90, 3902, 62521, 92]"
      ]
     },
     "execution_count": 23,
     "metadata": {},
     "output_type": "execute_result"
    }
   ],
   "source": [
    "enc.encode(strings[4])"
   ]
  },
  {
   "cell_type": "code",
   "execution_count": 55,
   "id": "f1855b6e-bc6f-4099-be53-ca6db7c3c438",
   "metadata": {},
   "outputs": [],
   "source": [
    "freq = defaultdict(int)"
   ]
  },
  {
   "cell_type": "code",
   "execution_count": 56,
   "id": "efb3aeac-0fef-41a5-8320-344d2de7266b",
   "metadata": {},
   "outputs": [],
   "source": [
    "for prompt in strings:\n",
    "    tokens = enc.encode(prompt, disallowed_special=())\n",
    "    for token in tokens:\n",
    "        if freq.get(str(token)) is not None:\n",
    "            freq[str(token)] += 1\n",
    "        else:\n",
    "            freq[str(token)] = 1"
   ]
  },
  {
   "cell_type": "code",
   "execution_count": 57,
   "id": "644c6e08-d366-4cd5-a893-215dd0c82c36",
   "metadata": {},
   "outputs": [],
   "source": [
    "freq = {\n",
    "    k: v\n",
    "    for k, v in sorted(freq.items(), key=lambda item: item[1], reverse=True)[:10]\n",
    "}"
   ]
  },
  {
   "cell_type": "code",
   "execution_count": 58,
   "id": "0e5ce7eb-75ea-4877-b9d3-1afd2fee5b1f",
   "metadata": {},
   "outputs": [
    {
     "data": {
      "text/plain": [
       "{'279': 15763,\n",
       " '11': 10667,\n",
       " '13': 9787,\n",
       " '264': 7133,\n",
       " '311': 6870,\n",
       " '25': 6468,\n",
       " '323': 5814,\n",
       " '315': 4965,\n",
       " '220': 4614,\n",
       " '314': 4143}"
      ]
     },
     "execution_count": 58,
     "metadata": {},
     "output_type": "execute_result"
    }
   ],
   "source": [
    "freq"
   ]
  },
  {
   "cell_type": "code",
   "execution_count": 59,
   "id": "f8eca28f-271c-4485-9e6c-51fe8c0c69c1",
   "metadata": {},
   "outputs": [
    {
     "data": {
      "image/png": "[encoded data removed]",
      "text/plain": [
       "<Figure size 640x480 with 1 Axes>"
      ]
     },
     "metadata": {},
     "output_type": "display_data"
    }
   ],
   "source": [
    "tokens = freq.keys()\n",
    "counts = freq.values()\n",
    "\n",
    "plt.xlabel(\"token\")\n",
    "plt.ylabel(\"frequency\")\n",
    "plt.title(\"Distribution of Tokens\")\n",
    "plt.bar(tokens, counts)\n",
    "plt.show()"
   ]
  }
 ],
 "metadata": {
  "kernelspec": {
   "display_name": "Python 3 (ipykernel)",
   "language": "python",
   "name": "python3"
  },
  "language_info": {
   "codemirror_mode": {
    "name": "ipython",
    "version": 3
   },
   "file_extension": ".py",
   "mimetype": "text/x-python",
   "name": "python",
   "nbconvert_exporter": "python",
   "pygments_lexer": "ipython3",
   "version": "3.11.2"
  }
 },
 "nbformat": 4,
 "nbformat_minor": 5
}
