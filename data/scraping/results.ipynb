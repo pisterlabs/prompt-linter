{
 "cells": [
  {
   "cell_type": "markdown",
   "metadata": {},
   "source": [
    "# 🕸️ Scraping Results"
   ]
  },
  {
   "cell_type": "code",
   "execution_count": 1,
   "metadata": {},
   "outputs": [
    {
     "name": "stdout",
     "output_type": "stream",
     "text": [
      "\n",
      "Result Counts from Github (Collected Manually)\n",
      "    openai: 71.7k\n",
      "    langchain: 50.2k\n",
      "    cohere: 5.1k\n",
      "    guidance: 1.6k\n",
      "    anthropic: 1.5k\n",
      "    llamaindex: 91\n",
      "\n",
      "Library: openai\n",
      "\tTotal number of results: 33952\n",
      "\tTotal number of hrefs: 18206\n",
      "Library: langchain\n",
      "\tTotal number of results: 28803\n",
      "\tTotal number of hrefs: 16775\n",
      "Library: cohere\n",
      "\tTotal number of results: 5380\n",
      "\tTotal number of hrefs: 4121\n",
      "Library: llamaindex\n",
      "\tTotal number of results: 91\n",
      "\tTotal number of hrefs: 91\n",
      "Library: guidance\n",
      "\tTotal number of results: 1303\n",
      "\tTotal number of hrefs: 1195\n",
      "Library: anthropic\n",
      "\tTotal number of results: 1401\n",
      "\tTotal number of hrefs: 1328\n"
     ]
    }
   ],
   "source": [
    "import json\n",
    "libraries = [\"openai\", \"langchain\", \"cohere\", \"llamaindex\", \"guidance\", \"anthropic\"]\n",
    "\n",
    "print(\n",
    "\"\"\"\n",
    "Result Counts from Github (Collected Manually)\n",
    "    openai: 71.7k\n",
    "    langchain: 50.2k\n",
    "    cohere: 5.1k\n",
    "    guidance: 1.6k\n",
    "    anthropic: 1.5k\n",
    "    llamaindex: 91\n",
    "\"\"\"\n",
    ")\n",
    "\n",
    "all_hrefs = []\n",
    "for lib in libraries:\n",
    "    with open(f'results_{lib}.json') as f:\n",
    "        data = json.load(f)\n",
    "\n",
    "    total_num_results = 0\n",
    "    total_hrefs = 0\n",
    "\n",
    "    for charCombo, results in data.items():\n",
    "        num_result = results['num_results']\n",
    "        hrefs = results['hrefs']\n",
    "\n",
    "        # Convert num_result to int\n",
    "        num_result = num_result.split()[0].replace(',', '')\n",
    "        num_result = int(float(num_result[:-1])) if \"k\" in num_result else int(num_result)\n",
    "        total_num_results += num_result\n",
    "\n",
    "        # Count hrefs\n",
    "        total_hrefs += len(hrefs)\n",
    "        all_hrefs += hrefs\n",
    "\n",
    "    print(f'Library: {lib}')\n",
    "    print('\\tTotal number of results:', total_num_results)\n",
    "    print('\\tTotal number of hrefs:', total_hrefs)"
   ]
  },
  {
   "cell_type": "markdown",
   "metadata": {},
   "source": [
    "# 📚 Downloading All Files"
   ]
  },
  {
   "cell_type": "code",
   "execution_count": 2,
   "metadata": {},
   "outputs": [
    {
     "name": "stdout",
     "output_type": "stream",
     "text": [
      "\n",
      "Total number of hrefs: 41716\n",
      "Error:  404 repos/christina8711~llm_cubestacking CubeStackingAssistant.py\n",
      "Error:  404 repos/JerryWestrick~KnowledgeEngineer kbserver.py\n",
      "Error:  404 repos/danieljbk~calhacks-spot key.py\n",
      "Error:  404 repos/ken-at-kore~LG-AiBot-Prototype lg_aibot.py\n",
      "Error:  404 repos/jayantr7~saatvaChatbot myEmbeddings.py\n",
      "Error:  404 repos/jayantr7~saatvaChatbot myEmbeddings_copy.py\n",
      "Error:  404 repos/jayantr7~saatvaChatbot prompter.py\n",
      "Error:  404 repos/danieljbk~calhacks-spot speech_to_cmd.py\n",
      "Error:  404 repos/danieljbk~calhacks-spot spot.py\n",
      "Error:  404 repos/simular-ai~OpenAGI vision.py\n",
      "Error:  404 repos/BastinFlorian~RAG-GCP firestore.py\n",
      "Error:  404 repos/ken-at-kore~LG-AiBot-Prototype lg_aibot.py\n",
      "Error:  404 repos/jfelipenc~NexbotChat nexbot.py\n",
      "Error:  404 repos/davidlainesv~olivia-finetuning sabana_update.py\n",
      "Error:  404 repos/danielgross~python-llm main.py\n",
      "Done\n"
     ]
    }
   ],
   "source": [
    "import os, requests\n",
    "\n",
    "print('\\nTotal number of hrefs:', len(all_hrefs))\n",
    "\n",
    "all_rawFileURLs = [href.replace(\"blob/\", \"\").replace(\"https://github.com\", \"https://raw.githubusercontent.com\") for href in all_hrefs]\n",
    "\n",
    "root_dir = \"repos\"\n",
    "if not os.path.exists(root_dir):\n",
    "    os.mkdir(root_dir)\n",
    "\n",
    "for url in all_rawFileURLs:\n",
    "    url_split = url.split(\"/\")\n",
    "    repo_name = \"~\".join(url_split[3:5])\n",
    "    filename = \"#\".join(url_split[-1].split(\"#\")[:-1])\n",
    "\n",
    "    # repo path\n",
    "    repo_path = os.path.join(root_dir, repo_name)\n",
    "    if not os.path.exists(repo_path):\n",
    "        os.mkdir(os.path.join(root_dir, repo_name))\n",
    "\n",
    "    # file path\n",
    "    file_path = os.path.join(repo_path, filename)\n",
    "    if not os.path.exists(file_path):\n",
    "        try:\n",
    "            r = requests.get(url, timeout=1)\n",
    "            # Exception thrown before file is created. \n",
    "            # So, if file exists, it's safe to assume that it's been downloaded successfully.\n",
    "            if r.status_code == 200:\n",
    "                with open(file_path, \"w\") as f:\n",
    "                    f.write(r.text)\n",
    "            else:\n",
    "                print(\"Error: \", r.status_code, repo_path, filename)\n",
    "        except Exception as e:\n",
    "            print(e)\n",
    "            print(\"Error: \", repo_path, filename)\n",
    "\n",
    "print(\"Done\")"
   ]
  }
 ],
 "metadata": {
  "kernelspec": {
   "display_name": "Python 3",
   "language": "python",
   "name": "python3"
  },
  "language_info": {
   "codemirror_mode": {
    "name": "ipython",
    "version": 3
   },
   "file_extension": ".py",
   "mimetype": "text/x-python",
   "name": "python",
   "nbconvert_exporter": "python",
   "pygments_lexer": "ipython3",
   "version": "3.10.12"
  }
 },
 "nbformat": 4,
 "nbformat_minor": 2
}
