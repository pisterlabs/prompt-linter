{
 "cells": [
  {
   "cell_type": "code",
   "execution_count": 6,
   "metadata": {},
   "outputs": [
    {
     "name": "stdout",
     "output_type": "stream",
     "text": [
      "Library: openai\n",
      "\tTotal number of results: 33952\n",
      "\tTotal number of hrefs: 18206\n",
      "Library: langchain\n",
      "\tTotal number of results: 28803\n",
      "\tTotal number of hrefs: 16775\n"
     ]
    }
   ],
   "source": [
    "import json\n",
    "libraries = [\"openai\", \"langchain\"]\n",
    "\n",
    "for lib in libraries:\n",
    "    with open(f'results_{lib}.json') as f:\n",
    "        data = json.load(f)\n",
    "\n",
    "    total_num_results = 0\n",
    "    total_hrefs = 0\n",
    "\n",
    "    for charCombo, results in data.items():\n",
    "        num_result = results['num_results']\n",
    "        hrefs = results['hrefs']\n",
    "\n",
    "        # Convert num_result to int\n",
    "        num_result = num_result.split()[0].replace(',', '')\n",
    "        num_result = int(float(num_result[:-1])) if \"k\" in num_result else int(num_result)\n",
    "        total_num_results += num_result\n",
    "\n",
    "        # Count hrefs\n",
    "        total_hrefs += len(hrefs)\n",
    "\n",
    "    print(f'Library: {lib}')\n",
    "    print('\\tTotal number of results:', total_num_results)\n",
    "    print('\\tTotal number of hrefs:', total_hrefs)"
   ]
  }
 ],
 "metadata": {
  "kernelspec": {
   "display_name": "Python 3",
   "language": "python",
   "name": "python3"
  },
  "language_info": {
   "codemirror_mode": {
    "name": "ipython",
    "version": 3
   },
   "file_extension": ".py",
   "mimetype": "text/x-python",
   "name": "python",
   "nbconvert_exporter": "python",
   "pygments_lexer": "ipython3",
   "version": "3.10.12"
  }
 },
 "nbformat": 4,
 "nbformat_minor": 2
}
