{
 "cells": [
  {
   "cell_type": "code",
   "execution_count": 1,
   "id": "b9053cac-a751-451f-9edb-6837ec127a56",
   "metadata": {},
   "outputs": [
    {
     "name": "stdout",
     "output_type": "stream",
     "text": [
      "Collecting langdetect\n",
      "  Downloading langdetect-1.0.9.tar.gz (981 kB)\n",
      "\u001b[2K     \u001b[38;2;114;156;31m━━━━━━━━━━━━━━━━━━━━━━━━━━━━━━━━━━━━━━\u001b[0m \u001b[32m981.5/981.5 kB\u001b[0m \u001b[31m10.2 MB/s\u001b[0m eta \u001b[36m0:00:00\u001b[0m MB/s\u001b[0m eta \u001b[36m0:00:01\u001b[0m:01\u001b[0m\n",
      "\u001b[?25h  Preparing metadata (setup.py) ... \u001b[?25ldone\n",
      "\u001b[?25hRequirement already satisfied: six in /Library/Frameworks/Python.framework/Versions/3.11/lib/python3.11/site-packages (from langdetect) (1.16.0)\n",
      "Installing collected packages: langdetect\n",
      "\u001b[33m  DEPRECATION: langdetect is being installed using the legacy 'setup.py install' method, because it does not have a 'pyproject.toml' and the 'wheel' package is not installed. pip 23.1 will enforce this behaviour change. A possible replacement is to enable the '--use-pep517' option. Discussion can be found at https://github.com/pypa/pip/issues/8559\u001b[0m\u001b[33m\n",
      "\u001b[0m  Running setup.py install for langdetect ... \u001b[?25ldone\n",
      "\u001b[?25hSuccessfully installed langdetect-1.0.9\n",
      "\n",
      "\u001b[1m[\u001b[0m\u001b[34;49mnotice\u001b[0m\u001b[1;39;49m]\u001b[0m\u001b[39;49m A new release of pip is available: \u001b[0m\u001b[31;49m23.0.1\u001b[0m\u001b[39;49m -> \u001b[0m\u001b[32;49m23.3.1\u001b[0m\n",
      "\u001b[1m[\u001b[0m\u001b[34;49mnotice\u001b[0m\u001b[1;39;49m]\u001b[0m\u001b[39;49m To update, run: \u001b[0m\u001b[32;49mpip install --upgrade pip\u001b[0m\n"
     ]
    }
   ],
   "source": [
    "try:\n",
    "    import langdetect\n",
    "except:\n",
    "    !pip install langdetect\n",
    "    import langdetect\n",
    "\n",
    "import json\n",
    "import matplotlib.pyplot as plt"
   ]
  },
  {
   "cell_type": "code",
   "execution_count": 11,
   "id": "06b01dcf-c2e3-4afc-b10b-9af4fc5e2be0",
   "metadata": {},
   "outputs": [],
   "source": [
    "with open(\"../parse_data/repo_to_prompts.json\", \"r\") as f:\n",
    "    file = f.read()\n",
    "    prompts = json.loads(file)"
   ]
  },
  {
   "cell_type": "code",
   "execution_count": 37,
   "id": "905ce3df-43a2-40d4-bdf7-3e89ca2480a5",
   "metadata": {},
   "outputs": [],
   "source": [
    "freq = {}\n",
    "for key in prompts.keys():\n",
    "    repo_prompts = prompts[key]\n",
    "    for prompt in repo_prompts:\n",
    "        try:\n",
    "            lang = langdetect.detect(prompt)\n",
    "\n",
    "            if lang in freq:\n",
    "                freq[lang] += 1\n",
    "            else:\n",
    "                freq[lang] = 1\n",
    "            \n",
    "        except:\n",
    "                if \"error\" in freq:\n",
    "                    freq[\"error\"] += 1\n",
    "                else:\n",
    "                    freq[\"error\"] = 1"
   ]
  },
  {
   "cell_type": "code",
   "execution_count": 45,
   "id": "163b22db-7d34-457b-8251-24ab0332c5ad",
   "metadata": {},
   "outputs": [
    {
     "data": {
      "text/plain": [
       "{'en': 957,\n",
       " 'zh-cn': 80,\n",
       " 'fr': 44,\n",
       " 'ja': 16,\n",
       " 'ca': 6,\n",
       " 'ro': 6,\n",
       " 'ko': 4,\n",
       " 'vi': 3,\n",
       " 'no': 2,\n",
       " 'tr': 2,\n",
       " 'it': 2,\n",
       " 'lt': 1,\n",
       " 'pt': 1,\n",
       " 'et': 1,\n",
       " 'error': 1,\n",
       " 'tl': 1}"
      ]
     },
     "execution_count": 45,
     "metadata": {},
     "output_type": "execute_result"
    }
   ],
   "source": [
    "# sort frequency map\n",
    "freq = {k: v for k, v in sorted(freq.items(), key=lambda item: item[1], reverse=True)}\n",
    "freq"
   ]
  },
  {
   "cell_type": "code",
   "execution_count": 44,
   "id": "c7e7176e-e254-4af2-b393-7bf74f58538c",
   "metadata": {},
   "outputs": [
    {
     "data": {
      "image/png": "[encoded data removed]",
      "text/plain": [
       "<Figure size 640x480 with 1 Axes>"
      ]
     },
     "metadata": {},
     "output_type": "display_data"
    }
   ],
   "source": [
    "langs = freq.keys()\n",
    "counts = freq.values()\n",
    "\n",
    "plt.xlabel(\"language\")\n",
    "plt.ylabel(\"frequency\")\n",
    "plt.bar(langs, counts)\n",
    "plt.show()"
   ]
  }
 ],
 "metadata": {
  "kernelspec": {
   "display_name": "Python 3 (ipykernel)",
   "language": "python",
   "name": "python3"
  },
  "language_info": {
   "codemirror_mode": {
    "name": "ipython",
    "version": 3
   },
   "file_extension": ".py",
   "mimetype": "text/x-python",
   "name": "python",
   "nbconvert_exporter": "python",
   "pygments_lexer": "ipython3",
   "version": "3.11.2"
  }
 },
 "nbformat": 4,
 "nbformat_minor": 5
}
