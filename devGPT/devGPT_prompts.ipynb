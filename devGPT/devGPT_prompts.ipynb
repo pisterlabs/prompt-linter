{
 "cells": [
  {
   "cell_type": "markdown",
   "metadata": {},
   "source": [
    "# DevGPT Prompts"
   ]
  },
  {
   "cell_type": "code",
   "execution_count": 2,
   "metadata": {},
   "outputs": [
    {
     "name": "stdout",
     "output_type": "stream",
     "text": [
      "Loaded 2496 chats\n"
     ]
    }
   ],
   "source": [
    "import json\n",
    "import os\n",
    "\n",
    "root_dir = \"../DevGPT\"\n",
    "chats = {}\n",
    "if os.path.exists('chats.json'):\n",
    "    with open('chats.json', 'r') as f:\n",
    "        chats = json.load(f)\n",
    "    print(\"Loaded\", len(chats), \"chats\")\n",
    "else:\n",
    "    # OS Walk\n",
    "    for root, dirs, files in os.walk(root_dir):\n",
    "        for file in files:\n",
    "            if file.endswith(\".json\"):\n",
    "                file_path = os.path.join(root, file)\n",
    "                with open(file_path, 'r') as f:\n",
    "                    data = json.load(f)\n",
    "                \n",
    "                for source in data[\"Sources\"]:\n",
    "                    for chat in source[\"ChatgptSharing\"]:\n",
    "                        # If Status is 200 and Conversations is not empty\n",
    "                        if chat[\"Status\"] == 200 and chat[\"Conversations\"]:\n",
    "                            chats[chat[\"URL\"]] = chat\n",
    "                print(file, len(chats))\n",
    "\n",
    "    # Save to JSON\n",
    "    with open('chats.json', 'w') as f:\n",
    "        json.dump(chats, f, indent=4)"
   ]
  },
  {
   "cell_type": "markdown",
   "metadata": {},
   "source": [
    "# Getting Meaningful Prompts for DevGPT"
   ]
  },
  {
   "cell_type": "code",
   "execution_count": 8,
   "metadata": {},
   "outputs": [],
   "source": [
    "# Getting all prompts\n",
    "# ASSUMPTION: All chats are unique\n",
    "all_prompts = {}\n",
    "all_prompts[\"Prompts\"] = []\n",
    "for url, chat in chats.items():\n",
    "    print(chat)\n",
    "    for convo in chat[\"Conversations\"]:\n",
    "        all_prompts[\"Prompts\"].append(convo[\"Prompt\"])\n",
    "\n",
    "# Save to JSON\n",
    "with open('prompts.json', 'w') as f:\n",
    "    json.dump(all_prompts, f, indent=4)"
   ]
  }
 ],
 "metadata": {
  "kernelspec": {
   "display_name": "Python 3",
   "language": "python",
   "name": "python3"
  },
  "language_info": {
   "codemirror_mode": {
    "name": "ipython",
    "version": 3
   },
   "file_extension": ".py",
   "mimetype": "text/x-python",
   "name": "python",
   "nbconvert_exporter": "python",
   "pygments_lexer": "ipython3",
   "version": "3.10.12"
  }
 },
 "nbformat": 4,
 "nbformat_minor": 2
}
