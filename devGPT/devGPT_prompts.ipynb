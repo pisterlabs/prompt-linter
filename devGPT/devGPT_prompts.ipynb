{
 "cells": [
  {
   "cell_type": "markdown",
   "metadata": {},
   "source": [
    "# DevGPT Prompts"
   ]
  },
  {
   "cell_type": "code",
   "execution_count": 3,
   "metadata": {},
   "outputs": [
    {
     "name": "stdout",
     "output_type": "stream",
     "text": [
      "Loaded 2496 chats\n"
     ]
    }
   ],
   "source": [
    "import json\n",
    "import os\n",
    "\n",
    "root_dir = \"../DevGPT\"\n",
    "chats = {}\n",
    "if os.path.exists('chats.json'):\n",
    "    with open('chats.json', 'r') as f:\n",
    "        chats = json.load(f)\n",
    "    print(\"Loaded\", len(chats), \"chats\")\n",
    "else:\n",
    "    # OS Walk\n",
    "    for root, dirs, files in os.walk(root_dir):\n",
    "        for file in files:\n",
    "            if file.endswith(\".json\"):\n",
    "                file_path = os.path.join(root, file)\n",
    "                with open(file_path, 'r') as f:\n",
    "                    data = json.load(f)\n",
    "                \n",
    "                for source in data[\"Sources\"]:\n",
    "                    for chat in source[\"ChatgptSharing\"]:\n",
    "                        # If Status is 200 and Conversations is not empty\n",
    "                        if chat[\"Status\"] == 200 and chat[\"Conversations\"]:\n",
    "                            chats[chat[\"URL\"]] = chat\n",
    "                print(file, len(chats))\n",
    "\n",
    "    # Save to JSON\n",
    "    with open('chats.json', 'w') as f:\n",
    "        json.dump(chats, f, indent=4)"
   ]
  },
  {
   "cell_type": "markdown",
   "metadata": {},
   "source": [
    "# Getting Meaningful Prompts for DevGPT"
   ]
  },
  {
   "cell_type": "code",
   "execution_count": 4,
   "metadata": {},
   "outputs": [],
   "source": [
    "# Getting all prompts\n",
    "# ASSUMPTION: All chats are unique\n",
    "all_prompts = {}\n",
    "all_prompts[\"Prompts\"] = []\n",
    "for url, chat in chats.items():\n",
    "    print(chat)\n",
    "    for convo in chat[\"Conversations\"]:\n",
    "        all_prompts[\"Prompts\"].append(convo[\"Prompt\"])\n",
    "\n",
    "# Save to JSON\n",
    "with open('prompts.json', 'w') as f:\n",
    "    json.dump(all_prompts, f, indent=4)"
   ]
  },
  {
   "cell_type": "markdown",
   "metadata": {},
   "source": [
    "# Character Length vs. Frequency"
   ]
  },
  {
   "cell_type": "code",
   "execution_count": 1,
   "metadata": {},
   "outputs": [
    {
     "ename": "NameError",
     "evalue": "name 'all_prompts' is not defined",
     "output_type": "error",
     "traceback": [
      "\u001b[0;31m---------------------------------------------------------------------------\u001b[0m",
      "\u001b[0;31mNameError\u001b[0m                                 Traceback (most recent call last)",
      "\u001b[1;32m/home/dpaul/prompt-linter/devGPT/devGPT_prompts.ipynb Cell 6\u001b[0m line \u001b[0;36m3\n\u001b[1;32m      <a href='vscode-notebook-cell://wsl%2Bubuntu/home/dpaul/prompt-linter/devGPT/devGPT_prompts.ipynb#X14sdnNjb2RlLXJlbW90ZQ%3D%3D?line=0'>1</a>\u001b[0m \u001b[39m# Character Length vs. Frquency\u001b[39;00m\n\u001b[1;32m      <a href='vscode-notebook-cell://wsl%2Bubuntu/home/dpaul/prompt-linter/devGPT/devGPT_prompts.ipynb#X14sdnNjb2RlLXJlbW90ZQ%3D%3D?line=1'>2</a>\u001b[0m char_freq \u001b[39m=\u001b[39m {}\n\u001b[0;32m----> <a href='vscode-notebook-cell://wsl%2Bubuntu/home/dpaul/prompt-linter/devGPT/devGPT_prompts.ipynb#X14sdnNjb2RlLXJlbW90ZQ%3D%3D?line=2'>3</a>\u001b[0m \u001b[39mfor\u001b[39;00m prompt \u001b[39min\u001b[39;00m all_prompts[\u001b[39m\"\u001b[39m\u001b[39mPrompts\u001b[39m\u001b[39m\"\u001b[39m]:\n\u001b[1;32m      <a href='vscode-notebook-cell://wsl%2Bubuntu/home/dpaul/prompt-linter/devGPT/devGPT_prompts.ipynb#X14sdnNjb2RlLXJlbW90ZQ%3D%3D?line=3'>4</a>\u001b[0m     char_freq[\u001b[39mlen\u001b[39m(prompt)] \u001b[39m=\u001b[39m char_freq\u001b[39m.\u001b[39mget(\u001b[39mlen\u001b[39m(prompt), \u001b[39m0\u001b[39m) \u001b[39m+\u001b[39m \u001b[39m1\u001b[39m\n\u001b[1;32m      <a href='vscode-notebook-cell://wsl%2Bubuntu/home/dpaul/prompt-linter/devGPT/devGPT_prompts.ipynb#X14sdnNjb2RlLXJlbW90ZQ%3D%3D?line=5'>6</a>\u001b[0m \u001b[39m# Plot\u001b[39;00m\n",
      "\u001b[0;31mNameError\u001b[0m: name 'all_prompts' is not defined"
     ]
    }
   ],
   "source": [
    "# Character Length vs. Frquency\n",
    "char_freq = {}\n",
    "for prompt in all_prompts[\"Prompts\"]:\n",
    "    char_freq[len(prompt)] = char_freq.get(len(prompt), 0) + 1\n",
    "\n",
    "# Plot\n",
    "import matplotlib.pyplot as plt\n",
    "plt.bar(char_freq.keys(), char_freq.values())\n",
    "plt.xlabel(\"Character Length\")\n",
    "plt.ylabel(\"Frequency\")\n",
    "plt.title(\"Character Length vs. Frequency\")\n",
    "plt.show()\n",
    "\n",
    "# Zoom in\n",
    "plt.bar(char_freq.keys(), char_freq.values())\n",
    "plt.xlabel(\"Character Length\")\n",
    "plt.ylabel(\"Frequency\")\n",
    "plt.title(\"Character Length vs. Frequency\")\n",
    "plt.xlim(0, 500)\n",
    "plt.show()"
   ]
  }
 ],
 "metadata": {
  "kernelspec": {
   "display_name": "Python 3",
   "language": "python",
   "name": "python3"
  },
  "language_info": {
   "codemirror_mode": {
    "name": "ipython",
    "version": 3
   },
   "file_extension": ".py",
   "mimetype": "text/x-python",
   "name": "python",
   "nbconvert_exporter": "python",
   "pygments_lexer": "ipython3",
   "version": "3.10.12"
  }
 },
 "nbformat": 4,
 "nbformat_minor": 2
}
